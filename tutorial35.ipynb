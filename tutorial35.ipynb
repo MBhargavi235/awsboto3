{
 "cells": [
  {
   "cell_type": "markdown",
   "metadata": {},
   "source": [
    "# tutorial 35, how to describe key pair from aws account using boto3 and python"
   ]
  },
  {
   "cell_type": "code",
   "execution_count": 4,
   "metadata": {},
   "outputs": [],
   "source": [
    "import boto3"
   ]
  },
  {
   "cell_type": "code",
   "execution_count": 5,
   "metadata": {},
   "outputs": [],
   "source": [
    "ec2_client=boto3.client(\"ec2\")"
   ]
  },
  {
   "cell_type": "code",
   "execution_count": 8,
   "metadata": {},
   "outputs": [
    {
     "data": {
      "text/plain": [
       "4"
      ]
     },
     "execution_count": 8,
     "metadata": {},
     "output_type": "execute_result"
    }
   ],
   "source": [
    "#get the count of key pais\n",
    "data=ec2_client.describe_key_pairs()\n",
    "data_key=data[\"KeyPairs\"]\n",
    "len(data_key)"
   ]
  },
  {
   "cell_type": "code",
   "execution_count": 15,
   "metadata": {},
   "outputs": [
    {
     "name": "stdout",
     "output_type": "stream",
     "text": [
      "keyname=key1,key_fingerprint=cf:5d:9e:be:a2:8c:81:e5:3e:44:48:24:3e:fa:17:85:a5:a8:05:21,key_id=key-073cf58763fdf7f4a\n",
      "keyname=key2,key_fingerprint=76:a7:af:f7:9c:c4:e8:63:7d:ce:6b:45:dc:2f:ab:7f:5d:ee:aa:f4,key_id=key-0bf9da462a1aac11f\n",
      "keyname=key3,key_fingerprint=4a:76:ae:34:26:8d:13:06:50:7c:bb:fe:0e:96:d2:40:e9:c7:86:60,key_id=key-0db7679c4bce05210\n",
      "keyname=key4,key_fingerprint=9c:0a:a2:66:57:4b:88:ff:f7:bf:b1:ba:04:dd:6d:fb:51:e7:e4:d5,key_id=key-0b2bb6594796eb565\n"
     ]
    }
   ],
   "source": [
    "#get the name,id and figerprint of key pairs\n",
    "data_key=data[\"KeyPairs\"]\n",
    "for key in data_key:\n",
    "    print(f'keyname={key[\"KeyName\"]},key_fingerprint={key[\"KeyFingerprint\"]},key_id={key[\"KeyPairId\"]}')\n",
    "    "
   ]
  },
  {
   "cell_type": "code",
   "execution_count": null,
   "metadata": {},
   "outputs": [],
   "source": []
  }
 ],
 "metadata": {
  "kernelspec": {
   "display_name": "Python 3",
   "language": "python",
   "name": "python3"
  },
  "language_info": {
   "codemirror_mode": {
    "name": "ipython",
    "version": 3
   },
   "file_extension": ".py",
   "mimetype": "text/x-python",
   "name": "python",
   "nbconvert_exporter": "python",
   "pygments_lexer": "ipython3",
   "version": "3.7.6"
  }
 },
 "nbformat": 4,
 "nbformat_minor": 4
}
