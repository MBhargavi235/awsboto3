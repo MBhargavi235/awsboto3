{
 "cells": [
  {
   "cell_type": "markdown",
   "metadata": {},
   "source": [
    "# tutorial 24, create ec2 instance with (key pair & security) to login from local machine using ssh"
   ]
  },
  {
   "cell_type": "code",
   "execution_count": 1,
   "metadata": {},
   "outputs": [],
   "source": [
    "import boto3\n",
    "ec2_resourc=boto3.resource(\"ec2\")\n"
   ]
  },
  {
   "cell_type": "code",
   "execution_count": 45,
   "metadata": {},
   "outputs": [
    {
     "data": {
      "text/plain": [
       "[ec2.Instance(id='i-04b69a02d164ee4ba')]"
      ]
     },
     "execution_count": 45,
     "metadata": {},
     "output_type": "execute_result"
    }
   ],
   "source": [
    "ec2_resourc.create_instances(ImageId='ami-03657b56516ab7912',\n",
    "                             InstanceType=\"t2.micro\",\n",
    "                             MaxCount=1,\n",
    "                             MinCount=1)"
   ]
  },
  {
   "cell_type": "code",
   "execution_count": 4,
   "metadata": {},
   "outputs": [],
   "source": [
    "#create key pair\n",
    "key_pair=ec2_resourc.create_key_pair(KeyName='key4')\n"
   ]
  },
  {
   "cell_type": "code",
   "execution_count": 48,
   "metadata": {},
   "outputs": [],
   "source": [
    "key_value=key_pair.key_material"
   ]
  },
  {
   "cell_type": "code",
   "execution_count": 50,
   "metadata": {},
   "outputs": [],
   "source": [
    "import io\n",
    "with io.open(\"tutorial24.pem\",\"w\",encoding=\"utf-8\")as f1:\n",
    "    f1.write(str(key_value))\n",
    "    f1.close()"
   ]
  },
  {
   "cell_type": "code",
   "execution_count": 51,
   "metadata": {},
   "outputs": [],
   "source": [
    "#create security group\n",
    "ec2_client=boto3.client(\"ec2\")"
   ]
  },
  {
   "cell_type": "code",
   "execution_count": 54,
   "metadata": {},
   "outputs": [
    {
     "data": {
      "text/plain": [
       "{'GroupId': 'sg-0f1132f32dada677a',\n",
       " 'ResponseMetadata': {'RequestId': 'cb8cffb5-d771-4588-b067-6c7e65f45284',\n",
       "  'HTTPStatusCode': 200,\n",
       "  'HTTPHeaders': {'x-amzn-requestid': 'cb8cffb5-d771-4588-b067-6c7e65f45284',\n",
       "   'content-type': 'text/xml;charset=UTF-8',\n",
       "   'content-length': '283',\n",
       "   'date': 'Sat, 17 Oct 2020 17:04:51 GMT',\n",
       "   'server': 'AmazonEC2'},\n",
       "  'RetryAttempts': 0}}"
      ]
     },
     "execution_count": 54,
     "metadata": {},
     "output_type": "execute_result"
    }
   ],
   "source": [
    "ec2_client.create_security_group(Description='tutorial24 for ec2 ssh access',\n",
    "      GroupName='tutorial24-sg')"
   ]
  },
  {
   "cell_type": "code",
   "execution_count": 58,
   "metadata": {},
   "outputs": [
    {
     "data": {
      "text/plain": [
       "{'ResponseMetadata': {'RequestId': 'eab6097e-8086-44fc-a2f6-10521fe321fa',\n",
       "  'HTTPStatusCode': 200,\n",
       "  'HTTPHeaders': {'x-amzn-requestid': 'eab6097e-8086-44fc-a2f6-10521fe321fa',\n",
       "   'content-type': 'text/xml;charset=UTF-8',\n",
       "   'content-length': '259',\n",
       "   'date': 'Sat, 17 Oct 2020 17:12:31 GMT',\n",
       "   'server': 'AmazonEC2'},\n",
       "  'RetryAttempts': 0}}"
      ]
     },
     "execution_count": 58,
     "metadata": {},
     "output_type": "execute_result"
    }
   ],
   "source": [
    "#enable inbound rule for sg\n",
    "ec2_client.authorize_security_group_ingress(\n",
    "      GroupId='sg-0f1132f32dada677a',\n",
    "      IpPermissions=[\n",
    "          {\n",
    "              'FromPort': 0,\n",
    "              'IpProtocol': '-1',\n",
    "              'IpRanges': [\n",
    "                  {\n",
    "                      'CidrIp': '0.0.0.0/0',\n",
    "                      \n",
    "                  },\n",
    "              ],\n",
    "              'ToPort': 65536,\n",
    "          }\n",
    "      ]\n",
    "              )"
   ]
  },
  {
   "cell_type": "markdown",
   "metadata": {},
   "source": [
    "# create ec2 instance with ssm agent ,security group , iampolicy and key pair"
   ]
  },
  {
   "cell_type": "code",
   "execution_count": 60,
   "metadata": {},
   "outputs": [
    {
     "data": {
      "text/plain": [
       "[ec2.Instance(id='i-025bab55dd7dd5512')]"
      ]
     },
     "execution_count": 60,
     "metadata": {},
     "output_type": "execute_result"
    }
   ],
   "source": [
    "ec2_resourc.create_instances(ImageId='ami-03657b56516ab7912',\n",
    "      InstanceType='t2.micro',\n",
    "    KeyName='tutorial24',\n",
    "    MaxCount=1,\n",
    "      MinCount=1,\n",
    "        SecurityGroupIds=[\n",
    "          'sg-0f1132f32dada677a',\n",
    "      ],\n",
    "        IamInstanceProfile={\n",
    "          'Name': 'ssm-role-ec2'\n",
    "      },\n",
    "    UserData=\"\"\"\n",
    "    #!/bin/bash\n",
    "cd /tmp\n",
    "sudo yum install -y https://s3.amazonaws.com/ec2-downloads-windows/SSMAgent/latest/linux_amd64/amazon-ssm-agent.rpm\n",
    "sudo systemctl enable amazon-ssm-agent\n",
    "sudo systemctl start amazon-ssm-agent\n",
    "    \"\"\")"
   ]
  },
  {
   "cell_type": "code",
   "execution_count": null,
   "metadata": {},
   "outputs": [],
   "source": []
  },
  {
   "cell_type": "code",
   "execution_count": null,
   "metadata": {},
   "outputs": [],
   "source": []
  },
  {
   "cell_type": "code",
   "execution_count": null,
   "metadata": {},
   "outputs": [],
   "source": []
  }
 ],
 "metadata": {
  "kernelspec": {
   "display_name": "Python 3",
   "language": "python",
   "name": "python3"
  },
  "language_info": {
   "codemirror_mode": {
    "name": "ipython",
    "version": 3
   },
   "file_extension": ".py",
   "mimetype": "text/x-python",
   "name": "python",
   "nbconvert_exporter": "python",
   "pygments_lexer": "ipython3",
   "version": "3.7.6"
  }
 },
 "nbformat": 4,
 "nbformat_minor": 4
}
